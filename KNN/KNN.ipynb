{
 "cells": [
  {
   "cell_type": "code",
   "execution_count": 1,
   "metadata": {},
   "outputs": [],
   "source": [
    "import openml\n",
    "import pandas as pd\n",
    "import numpy as np\n",
    "import subprocess\n",
    "import concurrent.futures\n",
    "from tqdm.notebook import tqdm\n",
    "import sys\n",
    "sys.path.append('../cmake-build-debug')\n",
    "from KNNRegressor import KNNRegressor\n",
    "from ConfusionMatrix import ConfusionMatrix\n",
    "from sklearn.base import BaseEstimator\n",
    "import matplotlib.pyplot as plt\n",
    "from itertools import product"
   ]
  },
  {
   "cell_type": "code",
   "execution_count": 2,
   "metadata": {},
   "outputs": [],
   "source": [
    "class KNNClassifier(BaseEstimator):\n",
    "    def __init__(self, \n",
    "                 windowSize=1, \n",
    "                 windowType=\"fixed\", \n",
    "                 distName=\"euclidean\", \n",
    "                 kernelName=\"uniform\", \n",
    "                 class_encoding=\"label\"):\n",
    "        self.windowSize = windowSize        \n",
    "        self.windowType = windowType\n",
    "        self.distName = distName\n",
    "        self.kernelName = kernelName\n",
    "        self.class_encoding = class_encoding\n",
    "        \n",
    "        \n",
    "    def fit(self, X, y):\n",
    "        params = {\n",
    "            \"windowType\": self.windowType, \n",
    "            \"distName\"  : self.distName, \n",
    "            \"kernelName\": self.kernelName, \n",
    "            \"windowSize\": self.windowSize\n",
    "        }\n",
    "        self.knnRegressor = KNNRegressor(**params)\n",
    "        npX = np.array(X)\n",
    "        npy = np.array(y).reshape(-1)\n",
    "        \n",
    "        self.labels_inverse = sorted(list(set(y)))\n",
    "        self.labels = {label: i for i, label in enumerate(self.labels_inverse)}\n",
    "        labelsCount = len(self.labels)\n",
    "        \n",
    "        if self.class_encoding == \"label\":\n",
    "            npy = np.vectorize(self.labels.__getitem__)(npy).astype(np.float).reshape(-1, 1)\n",
    "        elif self.class_encoding == \"onehot\":\n",
    "            def oneHotEncode(c):\n",
    "                res = np.zeros(labelsCount, dtype=np.float)\n",
    "                res[self.labels[c]] = 1\n",
    "                return res\n",
    "            npy = np.array(list(map(oneHotEncode, npy)))\n",
    "        \n",
    "        self.knnRegressor.fit(npX.tolist(), npy.tolist())\n",
    "    \n",
    "    \n",
    "    def predict(self, x):\n",
    "        npx = np.array(x)\n",
    "        if (len(npx.shape) == 1):\n",
    "            npx = [npx]\n",
    "        y_pred = []\n",
    "        for xx in npx:\n",
    "            y_pred.append(self.knnRegressor.predict(xx.tolist())) # rounding\n",
    "        \n",
    "        if self.class_encoding == \"label\":\n",
    "            y_pred = np.rint(y_pred).astype(np.int)\n",
    "        if self.class_encoding == \"onehot\":\n",
    "            y_pred = np.array(list(map(np.argmax, y_pred)))\n",
    "        \n",
    "        res = np.vectorize(self.labels_inverse.__getitem__)(y_pred).reshape(-1)\n",
    "        return res"
   ]
  },
  {
   "cell_type": "code",
   "execution_count": 3,
   "metadata": {},
   "outputs": [
    {
     "name": "stdout",
     "output_type": "stream",
     "text": [
      "[1 1]\n",
      "\n",
      "[1 1]\n",
      "\n",
      "[0 0]\n",
      "\n"
     ]
    }
   ],
   "source": [
    "X = [[0., 2.],\n",
    "     [1., 1.],\n",
    "     [2., 0.]]\n",
    "y = [1,\n",
    "     0,\n",
    "     1]\n",
    "knn = KNNClassifier(2, windowType=\"variable\", kernelName=\"gaussian\")\n",
    "knn.fit(X, y)\n",
    "print(knn.predict([[0, 0], [0, 0]]))\n",
    "print(\"\")\n",
    "knn = KNNClassifier(2, windowType=\"variable\", kernelName=\"gaussian\", class_encoding=\"onehot\")\n",
    "knn.fit(X, y)\n",
    "print(knn.predict([[0, 0], [0, 0]]))\n",
    "print(\"\")\n",
    "knn.set_params(windowSize=2, windowType=\"fixed\", kernelName=\"uniform\")\n",
    "knn.fit(X, y)\n",
    "print(knn.predict([[0, 0], [0, 0]]))\n",
    "print(\"\")"
   ]
  },
  {
   "cell_type": "code",
   "execution_count": 4,
   "metadata": {},
   "outputs": [],
   "source": [
    "class LeaveOneOut:\n",
    "    def split(self, X):\n",
    "        mask = np.full(X.shape[0], False)\n",
    "        for i in range(X.shape[0]):\n",
    "            mask[i] = True\n",
    "            yield ~mask, mask\n",
    "            mask[i] = False"
   ]
  },
  {
   "cell_type": "code",
   "execution_count": 5,
   "metadata": {},
   "outputs": [],
   "source": [
    "class ParameterGrid:\n",
    "    def __init__(self, params):\n",
    "        if not isinstance(params, list):\n",
    "            params = [params]\n",
    "        self.params = params\n",
    "        \n",
    "    def __iter__(self):\n",
    "        for param_dict in self.params:\n",
    "            param_list = list(param_dict.items())\n",
    "            names, values = zip(*param_list)\n",
    "            for value_tuple in product(*values):\n",
    "                yield dict(zip(names, value_tuple))\n",
    "                \n",
    "    def __len__(self):\n",
    "        res = 0\n",
    "        for param_dict in self.params:\n",
    "            prod = 1\n",
    "            for val in param_dict.values():\n",
    "                prod *= len(val)\n",
    "            res += prod\n",
    "        return res"
   ]
  },
  {
   "cell_type": "code",
   "execution_count": 6,
   "metadata": {},
   "outputs": [],
   "source": [
    "def f1_score(y_true, y_pred):\n",
    "    labels = {label: i for i, label in enumerate(set(y_true))}\n",
    "    labelsCount = len(labels)\n",
    "    confusionMatrix = np.zeros((labelsCount, labelsCount), dtype=np.int)\n",
    "    for yt, yp in zip(y_true, y_pred):\n",
    "        yt = labels[yt]\n",
    "        yp = labels[yp]\n",
    "        confusionMatrix[yp][yt] += 1\n",
    "    confusionMatrix = ConfusionMatrix(confusionMatrix.tolist())\n",
    "    return confusionMatrix.f1_score_macro()"
   ]
  },
  {
   "cell_type": "code",
   "execution_count": 7,
   "metadata": {},
   "outputs": [],
   "source": [
    "def cross_validation(estimator, X, y, params_dict):\n",
    "    loo = LeaveOneOut()\n",
    "    grid = ParameterGrid(params_dict)\n",
    "    res = []\n",
    "    X = np.array(X)\n",
    "    y = np.array(y)\n",
    "    for param in tqdm(grid):\n",
    "        estimator.set_params(**param)\n",
    "        y_true = []\n",
    "        y_pred = []\n",
    "        for train_index, test_index in loo.split(X):\n",
    "            X_train, X_test = X[train_index], X[test_index]\n",
    "            y_train, y_test = y[train_index], y[test_index]\n",
    "            estimator.fit(X_train, y_train)\n",
    "            y_pred.append(estimator.predict(X_test)[0])\n",
    "            y_true.append(y_test[0])\n",
    "        \n",
    "        score = f1_score(y_true, y_pred)\n",
    "        param['score'] = score\n",
    "        res.append(param)\n",
    "    return pd.DataFrame(res)"
   ]
  },
  {
   "cell_type": "code",
   "execution_count": 8,
   "metadata": {},
   "outputs": [],
   "source": [
    "def findBestParams(estimator, X, y, params_grid):\n",
    "    res = cross_validation(estimator, X, y, params_grid)\n",
    "    best = res.iloc[res['score'].idxmax()]\n",
    "    return best\n",
    "    \n",
    "    \n",
    "def plotFScore(estimator, X, y, params, num=100):\n",
    "    params = params.to_dict()\n",
    "    for key in params:\n",
    "        params[key] = [params[key]]\n",
    "    if params['windowType'] == [\"fixed\"]:\n",
    "        params['windowSize'] = np.linspace(0, 1, num=num)\n",
    "    else:\n",
    "        params['windowSize'] = np.linspace(0, X.shape[0], num=num).astype(np.int)\n",
    "    del params['score']\n",
    "    res = cross_validation(estimator, X, y, params)\n",
    "    scores = res['score']\n",
    "    windows = res['windowSize']\n",
    "    plt.figure(figsize=(15, 5))\n",
    "    plt.plot(windows, scores)\n",
    "    return res.iloc[res['score'].idxmax()]"
   ]
  },
  {
   "cell_type": "code",
   "execution_count": 9,
   "metadata": {},
   "outputs": [],
   "source": [
    "# params_grid = {\n",
    "#     \"distName\": [\"manhattan\", \"euclidean\"],\n",
    "#     \"kernelName\": [\"uniform\"]\n",
    "# }\n",
    "\n",
    "# params_grid_fixed = {\n",
    "#     **params_grid,\n",
    "#     \"windowSize\": [0.1, 0.5, 1],\n",
    "#     \"windowType\": [\"fixed\"]\n",
    "# }\n",
    "\n",
    "# params_grid_variable = {\n",
    "#     **params_grid,\n",
    "#     \"windowSize\": [1, 2, 5],\n",
    "#     \"windowType\": [\"variable\"]\n",
    "# }\n",
    "\n",
    "params_grid = {\n",
    "    \"distName\": [\"manhattan\", \"euclidean\", \"chebyshev\"],\n",
    "    \"kernelName\": [\"uniform\", \n",
    "                   \"triangular\", \n",
    "                   \"epanechnikov\", \n",
    "                   \"quartic\",\n",
    "                   \"triweight\",\n",
    "                   \"tricube\",\n",
    "                   \"gaussian\",\n",
    "                   \"cosine\",\n",
    "                   \"logistic\",\n",
    "                   \"sigmoid\"]\n",
    "}\n",
    "\n",
    "params_grid_fixed = {\n",
    "    **params_grid,\n",
    "    \"windowSize\": [0.1, 0.5, 1],\n",
    "    \"windowType\": [\"fixed\"]\n",
    "}\n",
    "\n",
    "params_grid_variable = {\n",
    "    **params_grid,\n",
    "    \"windowSize\": [1, 2, 5],\n",
    "    \"windowType\": [\"variable\"]\n",
    "}\n",
    "\n",
    "params_grid = [params_grid_fixed, params_grid_variable]"
   ]
  },
  {
   "cell_type": "code",
   "execution_count": 10,
   "metadata": {},
   "outputs": [
    {
     "data": {
      "text/html": [
       "<div>\n",
       "<style scoped>\n",
       "    .dataframe tbody tr th:only-of-type {\n",
       "        vertical-align: middle;\n",
       "    }\n",
       "\n",
       "    .dataframe tbody tr th {\n",
       "        vertical-align: top;\n",
       "    }\n",
       "\n",
       "    .dataframe thead th {\n",
       "        text-align: right;\n",
       "    }\n",
       "</style>\n",
       "<table border=\"1\" class=\"dataframe\">\n",
       "  <thead>\n",
       "    <tr style=\"text-align: right;\">\n",
       "      <th></th>\n",
       "      <th>V1</th>\n",
       "      <th>V2</th>\n",
       "      <th>V3</th>\n",
       "      <th>V4</th>\n",
       "      <th>V5</th>\n",
       "      <th>V6</th>\n",
       "      <th>V7</th>\n",
       "    </tr>\n",
       "  </thead>\n",
       "  <tbody>\n",
       "    <tr>\n",
       "      <th>0</th>\n",
       "      <td>15.26</td>\n",
       "      <td>14.84</td>\n",
       "      <td>0.8710</td>\n",
       "      <td>5.763</td>\n",
       "      <td>3.312</td>\n",
       "      <td>2.221</td>\n",
       "      <td>5.220</td>\n",
       "    </tr>\n",
       "    <tr>\n",
       "      <th>1</th>\n",
       "      <td>14.88</td>\n",
       "      <td>14.57</td>\n",
       "      <td>0.8811</td>\n",
       "      <td>5.554</td>\n",
       "      <td>3.333</td>\n",
       "      <td>1.018</td>\n",
       "      <td>4.956</td>\n",
       "    </tr>\n",
       "    <tr>\n",
       "      <th>2</th>\n",
       "      <td>14.29</td>\n",
       "      <td>14.09</td>\n",
       "      <td>0.9050</td>\n",
       "      <td>5.291</td>\n",
       "      <td>3.337</td>\n",
       "      <td>2.699</td>\n",
       "      <td>4.825</td>\n",
       "    </tr>\n",
       "    <tr>\n",
       "      <th>3</th>\n",
       "      <td>13.84</td>\n",
       "      <td>13.94</td>\n",
       "      <td>0.8955</td>\n",
       "      <td>5.324</td>\n",
       "      <td>3.379</td>\n",
       "      <td>2.259</td>\n",
       "      <td>4.805</td>\n",
       "    </tr>\n",
       "    <tr>\n",
       "      <th>4</th>\n",
       "      <td>16.14</td>\n",
       "      <td>14.99</td>\n",
       "      <td>0.9034</td>\n",
       "      <td>5.658</td>\n",
       "      <td>3.562</td>\n",
       "      <td>1.355</td>\n",
       "      <td>5.175</td>\n",
       "    </tr>\n",
       "    <tr>\n",
       "      <th>...</th>\n",
       "      <td>...</td>\n",
       "      <td>...</td>\n",
       "      <td>...</td>\n",
       "      <td>...</td>\n",
       "      <td>...</td>\n",
       "      <td>...</td>\n",
       "      <td>...</td>\n",
       "    </tr>\n",
       "    <tr>\n",
       "      <th>205</th>\n",
       "      <td>12.19</td>\n",
       "      <td>13.20</td>\n",
       "      <td>0.8783</td>\n",
       "      <td>5.137</td>\n",
       "      <td>2.981</td>\n",
       "      <td>3.631</td>\n",
       "      <td>4.870</td>\n",
       "    </tr>\n",
       "    <tr>\n",
       "      <th>206</th>\n",
       "      <td>11.23</td>\n",
       "      <td>12.88</td>\n",
       "      <td>0.8511</td>\n",
       "      <td>5.140</td>\n",
       "      <td>2.795</td>\n",
       "      <td>4.325</td>\n",
       "      <td>5.003</td>\n",
       "    </tr>\n",
       "    <tr>\n",
       "      <th>207</th>\n",
       "      <td>13.20</td>\n",
       "      <td>13.66</td>\n",
       "      <td>0.8883</td>\n",
       "      <td>5.236</td>\n",
       "      <td>3.232</td>\n",
       "      <td>8.315</td>\n",
       "      <td>5.056</td>\n",
       "    </tr>\n",
       "    <tr>\n",
       "      <th>208</th>\n",
       "      <td>11.84</td>\n",
       "      <td>13.21</td>\n",
       "      <td>0.8521</td>\n",
       "      <td>5.175</td>\n",
       "      <td>2.836</td>\n",
       "      <td>3.598</td>\n",
       "      <td>5.044</td>\n",
       "    </tr>\n",
       "    <tr>\n",
       "      <th>209</th>\n",
       "      <td>12.30</td>\n",
       "      <td>13.34</td>\n",
       "      <td>0.8684</td>\n",
       "      <td>5.243</td>\n",
       "      <td>2.974</td>\n",
       "      <td>5.637</td>\n",
       "      <td>5.063</td>\n",
       "    </tr>\n",
       "  </tbody>\n",
       "</table>\n",
       "<p>210 rows × 7 columns</p>\n",
       "</div>"
      ],
      "text/plain": [
       "        V1     V2      V3     V4     V5     V6     V7\n",
       "0    15.26  14.84  0.8710  5.763  3.312  2.221  5.220\n",
       "1    14.88  14.57  0.8811  5.554  3.333  1.018  4.956\n",
       "2    14.29  14.09  0.9050  5.291  3.337  2.699  4.825\n",
       "3    13.84  13.94  0.8955  5.324  3.379  2.259  4.805\n",
       "4    16.14  14.99  0.9034  5.658  3.562  1.355  5.175\n",
       "..     ...    ...     ...    ...    ...    ...    ...\n",
       "205  12.19  13.20  0.8783  5.137  2.981  3.631  4.870\n",
       "206  11.23  12.88  0.8511  5.140  2.795  4.325  5.003\n",
       "207  13.20  13.66  0.8883  5.236  3.232  8.315  5.056\n",
       "208  11.84  13.21  0.8521  5.175  2.836  3.598  5.044\n",
       "209  12.30  13.34  0.8684  5.243  2.974  5.637  5.063\n",
       "\n",
       "[210 rows x 7 columns]"
      ]
     },
     "metadata": {},
     "output_type": "display_data"
    },
    {
     "data": {
      "text/plain": [
       "0      1\n",
       "1      1\n",
       "2      1\n",
       "3      1\n",
       "4      1\n",
       "      ..\n",
       "205    3\n",
       "206    3\n",
       "207    3\n",
       "208    3\n",
       "209    3\n",
       "Name: Class, Length: 210, dtype: category\n",
       "Categories (3, object): [1 < 2 < 3]"
      ]
     },
     "metadata": {},
     "output_type": "display_data"
    }
   ],
   "source": [
    "DATASET = openml.datasets.get_dataset(1499)\n",
    "TARGET = 'Class'\n",
    "# DATASET = openml.datasets.get_dataset(61)\n",
    "# TARGET = 'class'\n",
    "X, y, _, _ = DATASET.get_data(target=TARGET)\n",
    "display(X)\n",
    "display(y)"
   ]
  },
  {
   "cell_type": "code",
   "execution_count": 11,
   "metadata": {},
   "outputs": [],
   "source": [
    "x_min = X.min()\n",
    "x_max = X.max()\n",
    "X_norm = (X - x_min) / (x_max - x_min)"
   ]
  },
  {
   "cell_type": "code",
   "execution_count": 12,
   "metadata": {},
   "outputs": [],
   "source": [
    "knnSimple = KNNClassifier(class_encoding=\"label\")\n",
    "knnOneHot = KNNClassifier(class_encoding=\"onehot\")"
   ]
  },
  {
   "cell_type": "code",
   "execution_count": 13,
   "metadata": {},
   "outputs": [
    {
     "data": {
      "application/vnd.jupyter.widget-view+json": {
       "model_id": "c6198a3ba4df44749caeff4611d01f28",
       "version_major": 2,
       "version_minor": 0
      },
      "text/plain": [
       "HBox(children=(FloatProgress(value=0.0, max=180.0), HTML(value='')))"
      ]
     },
     "metadata": {},
     "output_type": "display_data"
    },
    {
     "name": "stdout",
     "output_type": "stream",
     "text": [
      "\n"
     ]
    },
    {
     "data": {
      "application/vnd.jupyter.widget-view+json": {
       "model_id": "94d8d5addfc8491981555c8c526d07c9",
       "version_major": 2,
       "version_minor": 0
      },
      "text/plain": [
       "HBox(children=(FloatProgress(value=0.0, max=180.0), HTML(value='')))"
      ]
     },
     "metadata": {},
     "output_type": "display_data"
    },
    {
     "name": "stdout",
     "output_type": "stream",
     "text": [
      "\n"
     ]
    }
   ],
   "source": [
    "bestSimple = findBestParams(knnSimple, X_norm, y, params_grid)\n",
    "bestOneHot = findBestParams(knnOneHot, X_norm, y, params_grid)"
   ]
  },
  {
   "cell_type": "code",
   "execution_count": 15,
   "metadata": {},
   "outputs": [
    {
     "data": {
      "application/vnd.jupyter.widget-view+json": {
       "model_id": "cd315514df5e42019b9df969b6b0e737",
       "version_major": 2,
       "version_minor": 0
      },
      "text/plain": [
       "HBox(children=(FloatProgress(value=0.0), HTML(value='')))"
      ]
     },
     "metadata": {},
     "output_type": "display_data"
    },
    {
     "name": "stdout",
     "output_type": "stream",
     "text": [
      "\n"
     ]
    },
    {
     "data": {
      "text/plain": [
       "distName      euclidean\n",
       "kernelName      uniform\n",
       "windowSize            4\n",
       "windowType     variable\n",
       "score          0.924389\n",
       "Name: 2, dtype: object"
      ]
     },
     "execution_count": 15,
     "metadata": {},
     "output_type": "execute_result"
    },
    {
     "data": {
      "image/png": "[encoded data removed]",
      "text/plain": [
       "<Figure size 1080x360 with 1 Axes>"
      ]
     },
     "metadata": {
      "needs_background": "light"
     },
     "output_type": "display_data"
    }
   ],
   "source": [
    "plotFScore(knnSimple, X_norm, y, bestSimple)"
   ]
  },
  {
   "cell_type": "code",
   "execution_count": 16,
   "metadata": {},
   "outputs": [
    {
     "data": {
      "application/vnd.jupyter.widget-view+json": {
       "model_id": "52ac2fadf39e47dc8d8755f8ab364cc9",
       "version_major": 2,
       "version_minor": 0
      },
      "text/plain": [
       "HBox(children=(FloatProgress(value=0.0), HTML(value='')))"
      ]
     },
     "metadata": {},
     "output_type": "display_data"
    },
    {
     "name": "stdout",
     "output_type": "stream",
     "text": [
      "\n"
     ]
    },
    {
     "data": {
      "text/plain": [
       "distName      euclidean\n",
       "kernelName      uniform\n",
       "windowSize            4\n",
       "windowType     variable\n",
       "score          0.952481\n",
       "Name: 2, dtype: object"
      ]
     },
     "execution_count": 16,
     "metadata": {},
     "output_type": "execute_result"
    },
    {
     "data": {
      "image/png": "[encoded data removed]",
      "text/plain": [
       "<Figure size 1080x360 with 1 Axes>"
      ]
     },
     "metadata": {
      "needs_background": "light"
     },
     "output_type": "display_data"
    }
   ],
   "source": [
    "plotFScore(knnOneHot, X_norm, y, bestOneHot)"
   ]
  },
  {
   "cell_type": "code",
   "execution_count": null,
   "metadata": {},
   "outputs": [],
   "source": []
  }
 ],
 "metadata": {
  "kernelspec": {
   "display_name": "Python 3",
   "language": "python",
   "name": "python3"
  },
  "language_info": {
   "codemirror_mode": {
    "name": "ipython",
    "version": 3
   },
   "file_extension": ".py",
   "mimetype": "text/x-python",
   "name": "python",
   "nbconvert_exporter": "python",
   "pygments_lexer": "ipython3",
   "version": "3.7.6"
  }
 },
 "nbformat": 4,
 "nbformat_minor": 4
}
